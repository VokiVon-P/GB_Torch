{
 "cells": [
  {
   "cell_type": "markdown",
   "metadata": {},
   "source": [
    "## 01 - HW\n",
    "* Добиться вразумительного результата от модели, собранной на занятии (7 угаданныx картинок из 10 предложенных на семинаре). Варианты изменений:\n",
    "        * изменение слоёв и их количества;\n",
    "        * изменение метода оптимизации; \n",
    "        * изменение процесса обучения; \n",
    "        * для продвинутых: преобразование данных transform\n",
    "* Переписать данный туториал на pytorch: https://www.tensorflow.org/tutorials/quickstart/beginner?hl=ru"
   ]
  },
  {
   "cell_type": "code",
   "execution_count": 1,
   "metadata": {},
   "outputs": [],
   "source": [
    "import torch\n",
    "import torch.nn as nn\n",
    "import torch.optim as optim\n",
    "import torch.utils.data\n",
    "import torch.nn.functional as F\n",
    "import torchvision\n",
    "from torchvision import transforms\n",
    "import torchvision.datasets as tdf\n",
    "\n",
    "import matplotlib.pyplot as plt ### воспользуемся для отображения изображения\n",
    "\n",
    "from tqdm.notebook import tqdm\n",
    "from os.path import join"
   ]
  },
  {
   "cell_type": "code",
   "execution_count": 2,
   "metadata": {},
   "outputs": [],
   "source": [
    "DATA_PATH = \"./data\"\n",
    "\n",
    "classes = ('plane', 'car', 'bird', 'cat',\n",
    "           'deer', 'dog', 'frog', 'horse', 'ship', 'truck')\n",
    "\n",
    "train_batch_size = 256\n",
    "test_batch_size = 256\n",
    "\n",
    "EPOCHS = 200"
   ]
  },
  {
   "cell_type": "markdown",
   "metadata": {},
   "source": [
    "## есть ли CUDA?"
   ]
  },
  {
   "cell_type": "code",
   "execution_count": 3,
   "metadata": {},
   "outputs": [
    {
     "name": "stdout",
     "output_type": "stream",
     "text": [
      "Wed Nov  4 15:54:16 2020       \n",
      "+-----------------------------------------------------------------------------+\n",
      "| NVIDIA-SMI 440.100      Driver Version: 440.100      CUDA Version: 10.2     |\n",
      "|-------------------------------+----------------------+----------------------+\n",
      "| GPU  Name        Persistence-M| Bus-Id        Disp.A | Volatile Uncorr. ECC |\n",
      "| Fan  Temp  Perf  Pwr:Usage/Cap|         Memory-Usage | GPU-Util  Compute M. |\n",
      "|===============================+======================+======================|\n",
      "|   0  GeForce GTX 108...  On   | 00000000:01:00.0 Off |                  N/A |\n",
      "|  0%   26C    P8     9W / 225W |     12MiB / 11178MiB |      0%      Default |\n",
      "+-------------------------------+----------------------+----------------------+\n",
      "|   1  GeForce GTX 108...  Off  | 00000000:05:00.0 Off |                  N/A |\n",
      "|  9%   48C    P0    63W / 270W |     10MiB / 11178MiB |      0%      Default |\n",
      "+-------------------------------+----------------------+----------------------+\n",
      "|   2  GeForce GTX 108...  On   | 00000000:07:00.0 Off |                  N/A |\n",
      "|  0%   28C    P8     9W / 225W |     12MiB / 11178MiB |      0%      Default |\n",
      "+-------------------------------+----------------------+----------------------+\n",
      "|   3  GeForce GTX 1070    Off  | 00000000:08:00.0 Off |                  N/A |\n",
      "|  0%   31C    P8     8W / 210W |     10MiB /  8119MiB |      0%      Default |\n",
      "+-------------------------------+----------------------+----------------------+\n",
      "                                                                               \n",
      "+-----------------------------------------------------------------------------+\n",
      "| Processes:                                                       GPU Memory |\n",
      "|  GPU       PID   Type   Process name                             Usage      |\n",
      "|=============================================================================|\n",
      "|  No running processes found                                                 |\n",
      "+-----------------------------------------------------------------------------+\n"
     ]
    }
   ],
   "source": [
    "# установлена ли CUDA и какой версии\n",
    "!nvidia-smi"
   ]
  },
  {
   "cell_type": "code",
   "execution_count": 4,
   "metadata": {},
   "outputs": [],
   "source": [
    "def set_torch_device(index: int = 0) -> torch.device:\n",
    "    _dev = f'cuda:{index}' if torch.cuda.is_available() else 'cpu'\n",
    "    return torch.device(_dev)"
   ]
  },
  {
   "cell_type": "code",
   "execution_count": 5,
   "metadata": {},
   "outputs": [],
   "source": [
    "torch.cuda.manual_seed_all(42)\n",
    "device = set_torch_device(1)"
   ]
  },
  {
   "cell_type": "markdown",
   "metadata": {},
   "source": [
    "### Dataloaders & Transform"
   ]
  },
  {
   "cell_type": "code",
   "execution_count": 6,
   "metadata": {},
   "outputs": [],
   "source": [
    "img_transforms = transforms.Compose([\n",
    "#     transforms.Resize((32,32)),    \n",
    "    transforms.ToTensor(),\n",
    "    transforms.Normalize(mean=[0, 0, 0],\n",
    "                    std=[1, 1, 1] )\n",
    "#     transforms.Normalize(mean=[0.485, 0.456, 0.406],\n",
    "#                     std=[0.229, 0.224, 0.225] )\n",
    "    ])\n"
   ]
  },
  {
   "cell_type": "code",
   "execution_count": 7,
   "metadata": {},
   "outputs": [
    {
     "name": "stdout",
     "output_type": "stream",
     "text": [
      "Files already downloaded and verified\n"
     ]
    }
   ],
   "source": [
    "train_data_path = join(DATA_PATH, \"01\")\n",
    "train_dataset = tdf.CIFAR10(root=train_data_path,\n",
    "                                             train=True,  \n",
    "                                             transform=img_transforms, \n",
    "                                             download=True)"
   ]
  },
  {
   "cell_type": "code",
   "execution_count": 8,
   "metadata": {},
   "outputs": [
    {
     "name": "stdout",
     "output_type": "stream",
     "text": [
      "Files already downloaded and verified\n"
     ]
    }
   ],
   "source": [
    "test_data_path = train_data_path\n",
    "test_dataset = tdf.CIFAR10(root=test_data_path,\n",
    "                                             train=False,  \n",
    "                                             transform=img_transforms, \n",
    "                                             download=True)"
   ]
  },
  {
   "cell_type": "code",
   "execution_count": 9,
   "metadata": {},
   "outputs": [],
   "source": [
    "train_data_loader = torch.utils.data.DataLoader(train_dataset, batch_size=train_batch_size)\n",
    "test_data_loader  = torch.utils.data.DataLoader(test_dataset, batch_size=test_batch_size) "
   ]
  },
  {
   "cell_type": "code",
   "execution_count": 10,
   "metadata": {},
   "outputs": [
    {
     "name": "stdout",
     "output_type": "stream",
     "text": [
      "torch.Size([3, 32, 32])\n",
      "frog\n"
     ]
    },
    {
     "data": {
      "image/png": "[encoded data removed]",
      "text/plain": [
       "<Figure size 432x288 with 1 Axes>"
      ]
     },
     "metadata": {
      "needs_background": "light"
     },
     "output_type": "display_data"
    }
   ],
   "source": [
    "image, label = train_dataset[0]\n",
    "plt.imshow(image.permute(1, 2, 0).numpy())\n",
    "print (image.size())\n",
    "print (classes[label])"
   ]
  },
  {
   "cell_type": "markdown",
   "metadata": {},
   "source": [
    "## Модель и оптимайзер"
   ]
  },
  {
   "cell_type": "code",
   "execution_count": 11,
   "metadata": {},
   "outputs": [],
   "source": [
    "class Net(nn.Module):\n",
    "    def __init__(self):\n",
    "        super().__init__()\n",
    "        self.conv1 = nn.Conv2d(3, 9, 5, padding=2)\n",
    "        self.pool = nn.MaxPool2d(2, 2)\n",
    "        self.conv2 = nn.Conv2d(9, 18, 3, padding=1)\n",
    "        self.conv3 = nn.Conv2d(18, 36, 3, padding=1)\n",
    "        self.fc1 = nn.Linear(576, 256)\n",
    "        self.fc2 = nn.Linear(256, 128)\n",
    "        self.fc3 = nn.Linear(128, 64)\n",
    "        self.fc4 = nn.Linear(64, 32)\n",
    "        self.fc5 = nn.Linear(32, 10)\n",
    "        self.dp1 = nn.Dropout()\n",
    "        self.dp2 = nn.Dropout()\n",
    "\n",
    "    def forward(self, x):\n",
    "        # print(x.shape)\n",
    "        x = self.pool(F.relu(self.conv1(x)))\n",
    "        x = self.pool(F.relu(self.conv2(x)))\n",
    "        x = self.pool(F.relu(self.conv3(x)))\n",
    "        # print(x.shape)\n",
    "        x = x.view(-1, 576)\n",
    "        x = self.dp1(x)\n",
    "        x = F.relu(self.fc1(x))\n",
    "        x = F.relu(self.fc2(x))\n",
    "        x = self.dp2(x)\n",
    "        x = F.relu(self.fc3(x))\n",
    "        x = F.relu(self.fc4(x))\n",
    "        x = self.fc5(x)\n",
    "        return x\n",
    "\n",
    "net = Net().to(device)"
   ]
  },
  {
   "cell_type": "code",
   "execution_count": 12,
   "metadata": {},
   "outputs": [],
   "source": [
    "optimizer = optim.Adam(net.parameters(), lr=3e-4)"
   ]
  },
  {
   "cell_type": "markdown",
   "metadata": {},
   "source": [
    "## Трейн"
   ]
  },
  {
   "cell_type": "code",
   "execution_count": 13,
   "metadata": {},
   "outputs": [],
   "source": [
    "def train(model, optimizer, loss_fn, train_loader, val_loader, epochs=20, device=\"cpu\"):\n",
    "    for epoch in tqdm(range(1, epochs+1)):\n",
    "        training_loss = 0.0\n",
    "        valid_loss = 0.0\n",
    "        model.train()\n",
    "        for batch in train_loader:\n",
    "            optimizer.zero_grad()\n",
    "            inputs, targets = batch\n",
    "            inputs = inputs.to(device)\n",
    "            targets = targets.to(device)\n",
    "            output = model(inputs)\n",
    "            loss = loss_fn(output, targets)\n",
    "            loss.backward()\n",
    "            optimizer.step()\n",
    "            training_loss += loss.data.item() * inputs.size(0)\n",
    "        training_loss /= len(train_loader.dataset)\n",
    "        \n",
    "        model.eval()\n",
    "        num_correct = 0 \n",
    "        num_examples = 0\n",
    "        for batch in val_loader:\n",
    "            inputs, targets = batch\n",
    "            inputs = inputs.to(device)\n",
    "            output = model(inputs)\n",
    "            targets = targets.to(device)\n",
    "            loss = loss_fn(output,targets) \n",
    "            valid_loss += loss.data.item() * inputs.size(0)\n",
    "            correct = torch.eq(torch.max(F.softmax(output, dim=1), dim=1)[1], targets)\n",
    "            num_correct += torch.sum(correct).item()\n",
    "            num_examples += correct.shape[0]\n",
    "        valid_loss /= len(val_loader.dataset)\n",
    "\n",
    "        print('Epoch: {}, Training Loss: {:.2f}, Validation Loss: {:.2f}, accuracy = {:.2f}'.format(epoch, training_loss,\n",
    "        valid_loss, num_correct / num_examples))"
   ]
  },
  {
   "cell_type": "code",
   "execution_count": 14,
   "metadata": {},
   "outputs": [
    {
     "data": {
      "application/vnd.jupyter.widget-view+json": {
       "model_id": "e5ddf2dc489a494f9b3dbd91500b0839",
       "version_major": 2,
       "version_minor": 0
      },
      "text/plain": [
       "HBox(children=(FloatProgress(value=0.0, max=200.0), HTML(value='')))"
      ]
     },
     "metadata": {},
     "output_type": "display_data"
    },
    {
     "name": "stdout",
     "output_type": "stream",
     "text": [
      "Epoch: 1, Training Loss: 2.20, Validation Loss: 2.04, accuracy = 0.22\n",
      "Epoch: 2, Training Loss: 2.01, Validation Loss: 1.90, accuracy = 0.29\n",
      "Epoch: 3, Training Loss: 1.87, Validation Loss: 1.74, accuracy = 0.35\n",
      "Epoch: 4, Training Loss: 1.76, Validation Loss: 1.65, accuracy = 0.39\n",
      "Epoch: 5, Training Loss: 1.69, Validation Loss: 1.58, accuracy = 0.41\n",
      "Epoch: 6, Training Loss: 1.64, Validation Loss: 1.55, accuracy = 0.43\n",
      "Epoch: 7, Training Loss: 1.60, Validation Loss: 1.51, accuracy = 0.44\n",
      "Epoch: 8, Training Loss: 1.57, Validation Loss: 1.47, accuracy = 0.46\n",
      "Epoch: 9, Training Loss: 1.54, Validation Loss: 1.44, accuracy = 0.47\n",
      "Epoch: 10, Training Loss: 1.51, Validation Loss: 1.40, accuracy = 0.48\n",
      "Epoch: 11, Training Loss: 1.49, Validation Loss: 1.38, accuracy = 0.49\n",
      "Epoch: 12, Training Loss: 1.47, Validation Loss: 1.35, accuracy = 0.50\n",
      "Epoch: 13, Training Loss: 1.45, Validation Loss: 1.34, accuracy = 0.51\n",
      "Epoch: 14, Training Loss: 1.43, Validation Loss: 1.31, accuracy = 0.52\n",
      "Epoch: 15, Training Loss: 1.42, Validation Loss: 1.30, accuracy = 0.52\n",
      "Epoch: 16, Training Loss: 1.40, Validation Loss: 1.28, accuracy = 0.53\n",
      "Epoch: 17, Training Loss: 1.38, Validation Loss: 1.27, accuracy = 0.54\n",
      "Epoch: 18, Training Loss: 1.37, Validation Loss: 1.25, accuracy = 0.55\n",
      "Epoch: 19, Training Loss: 1.35, Validation Loss: 1.24, accuracy = 0.55\n",
      "Epoch: 20, Training Loss: 1.34, Validation Loss: 1.22, accuracy = 0.56\n",
      "Epoch: 21, Training Loss: 1.33, Validation Loss: 1.22, accuracy = 0.56\n",
      "Epoch: 22, Training Loss: 1.32, Validation Loss: 1.20, accuracy = 0.57\n",
      "Epoch: 23, Training Loss: 1.29, Validation Loss: 1.18, accuracy = 0.57\n",
      "Epoch: 24, Training Loss: 1.29, Validation Loss: 1.18, accuracy = 0.57\n",
      "Epoch: 25, Training Loss: 1.28, Validation Loss: 1.18, accuracy = 0.58\n",
      "Epoch: 26, Training Loss: 1.27, Validation Loss: 1.16, accuracy = 0.59\n",
      "Epoch: 27, Training Loss: 1.26, Validation Loss: 1.16, accuracy = 0.58\n",
      "Epoch: 28, Training Loss: 1.25, Validation Loss: 1.14, accuracy = 0.59\n",
      "Epoch: 29, Training Loss: 1.24, Validation Loss: 1.14, accuracy = 0.59\n",
      "Epoch: 30, Training Loss: 1.23, Validation Loss: 1.12, accuracy = 0.60\n",
      "Epoch: 31, Training Loss: 1.22, Validation Loss: 1.11, accuracy = 0.61\n",
      "Epoch: 32, Training Loss: 1.20, Validation Loss: 1.10, accuracy = 0.61\n",
      "Epoch: 33, Training Loss: 1.20, Validation Loss: 1.10, accuracy = 0.61\n",
      "Epoch: 34, Training Loss: 1.18, Validation Loss: 1.11, accuracy = 0.60\n",
      "Epoch: 35, Training Loss: 1.18, Validation Loss: 1.08, accuracy = 0.62\n",
      "Epoch: 36, Training Loss: 1.17, Validation Loss: 1.07, accuracy = 0.62\n",
      "Epoch: 37, Training Loss: 1.16, Validation Loss: 1.07, accuracy = 0.62\n",
      "Epoch: 38, Training Loss: 1.15, Validation Loss: 1.07, accuracy = 0.62\n",
      "Epoch: 39, Training Loss: 1.14, Validation Loss: 1.04, accuracy = 0.63\n",
      "Epoch: 40, Training Loss: 1.13, Validation Loss: 1.05, accuracy = 0.63\n",
      "Epoch: 41, Training Loss: 1.12, Validation Loss: 1.03, accuracy = 0.64\n",
      "Epoch: 42, Training Loss: 1.11, Validation Loss: 1.03, accuracy = 0.64\n",
      "Epoch: 43, Training Loss: 1.10, Validation Loss: 1.03, accuracy = 0.64\n",
      "Epoch: 44, Training Loss: 1.10, Validation Loss: 1.01, accuracy = 0.64\n",
      "Epoch: 45, Training Loss: 1.08, Validation Loss: 1.00, accuracy = 0.65\n",
      "Epoch: 46, Training Loss: 1.08, Validation Loss: 1.01, accuracy = 0.64\n",
      "Epoch: 47, Training Loss: 1.07, Validation Loss: 1.01, accuracy = 0.65\n",
      "Epoch: 48, Training Loss: 1.06, Validation Loss: 0.98, accuracy = 0.65\n",
      "Epoch: 49, Training Loss: 1.05, Validation Loss: 0.98, accuracy = 0.66\n",
      "Epoch: 50, Training Loss: 1.04, Validation Loss: 0.99, accuracy = 0.65\n",
      "Epoch: 51, Training Loss: 1.04, Validation Loss: 0.96, accuracy = 0.66\n",
      "Epoch: 52, Training Loss: 1.03, Validation Loss: 0.96, accuracy = 0.66\n",
      "Epoch: 53, Training Loss: 1.02, Validation Loss: 0.96, accuracy = 0.66\n",
      "Epoch: 54, Training Loss: 1.02, Validation Loss: 0.96, accuracy = 0.66\n",
      "Epoch: 55, Training Loss: 1.01, Validation Loss: 0.95, accuracy = 0.67\n",
      "Epoch: 56, Training Loss: 1.00, Validation Loss: 0.95, accuracy = 0.67\n",
      "Epoch: 57, Training Loss: 1.00, Validation Loss: 0.95, accuracy = 0.67\n",
      "Epoch: 58, Training Loss: 0.99, Validation Loss: 0.95, accuracy = 0.67\n",
      "Epoch: 59, Training Loss: 0.98, Validation Loss: 0.94, accuracy = 0.67\n",
      "Epoch: 60, Training Loss: 0.98, Validation Loss: 0.93, accuracy = 0.68\n",
      "Epoch: 61, Training Loss: 0.98, Validation Loss: 0.95, accuracy = 0.67\n",
      "Epoch: 62, Training Loss: 0.97, Validation Loss: 0.94, accuracy = 0.67\n",
      "Epoch: 63, Training Loss: 0.96, Validation Loss: 0.94, accuracy = 0.68\n",
      "Epoch: 64, Training Loss: 0.95, Validation Loss: 0.96, accuracy = 0.66\n",
      "Epoch: 65, Training Loss: 0.95, Validation Loss: 0.92, accuracy = 0.68\n",
      "Epoch: 66, Training Loss: 0.95, Validation Loss: 0.93, accuracy = 0.68\n",
      "Epoch: 67, Training Loss: 0.94, Validation Loss: 0.91, accuracy = 0.68\n",
      "Epoch: 68, Training Loss: 0.93, Validation Loss: 0.91, accuracy = 0.68\n",
      "Epoch: 69, Training Loss: 0.93, Validation Loss: 0.92, accuracy = 0.68\n",
      "Epoch: 70, Training Loss: 0.93, Validation Loss: 0.91, accuracy = 0.68\n",
      "Epoch: 71, Training Loss: 0.92, Validation Loss: 0.93, accuracy = 0.68\n",
      "Epoch: 72, Training Loss: 0.91, Validation Loss: 0.91, accuracy = 0.69\n",
      "Epoch: 73, Training Loss: 0.91, Validation Loss: 0.90, accuracy = 0.69\n",
      "Epoch: 74, Training Loss: 0.90, Validation Loss: 0.89, accuracy = 0.69\n",
      "Epoch: 75, Training Loss: 0.90, Validation Loss: 0.90, accuracy = 0.69\n",
      "Epoch: 76, Training Loss: 0.89, Validation Loss: 0.89, accuracy = 0.69\n",
      "Epoch: 77, Training Loss: 0.89, Validation Loss: 0.90, accuracy = 0.69\n",
      "Epoch: 78, Training Loss: 0.89, Validation Loss: 0.94, accuracy = 0.68\n",
      "Epoch: 79, Training Loss: 0.89, Validation Loss: 0.88, accuracy = 0.70\n",
      "Epoch: 80, Training Loss: 0.88, Validation Loss: 0.89, accuracy = 0.69\n",
      "Epoch: 81, Training Loss: 0.87, Validation Loss: 0.86, accuracy = 0.70\n",
      "Epoch: 82, Training Loss: 0.87, Validation Loss: 0.88, accuracy = 0.70\n",
      "Epoch: 83, Training Loss: 0.87, Validation Loss: 0.87, accuracy = 0.70\n",
      "Epoch: 84, Training Loss: 0.86, Validation Loss: 0.87, accuracy = 0.70\n",
      "Epoch: 85, Training Loss: 0.86, Validation Loss: 0.88, accuracy = 0.70\n",
      "Epoch: 86, Training Loss: 0.86, Validation Loss: 0.91, accuracy = 0.69\n",
      "Epoch: 87, Training Loss: 0.85, Validation Loss: 0.88, accuracy = 0.70\n",
      "Epoch: 88, Training Loss: 0.84, Validation Loss: 0.89, accuracy = 0.70\n",
      "Epoch: 89, Training Loss: 0.85, Validation Loss: 0.88, accuracy = 0.70\n",
      "Epoch: 90, Training Loss: 0.84, Validation Loss: 0.86, accuracy = 0.71\n",
      "Epoch: 91, Training Loss: 0.84, Validation Loss: 0.86, accuracy = 0.71\n",
      "Epoch: 92, Training Loss: 0.84, Validation Loss: 0.86, accuracy = 0.71\n",
      "Epoch: 93, Training Loss: 0.83, Validation Loss: 0.86, accuracy = 0.70\n",
      "Epoch: 94, Training Loss: 0.83, Validation Loss: 0.86, accuracy = 0.70\n",
      "Epoch: 95, Training Loss: 0.83, Validation Loss: 0.86, accuracy = 0.70\n",
      "Epoch: 96, Training Loss: 0.82, Validation Loss: 0.85, accuracy = 0.71\n",
      "Epoch: 97, Training Loss: 0.82, Validation Loss: 0.84, accuracy = 0.71\n",
      "Epoch: 98, Training Loss: 0.82, Validation Loss: 0.87, accuracy = 0.70\n",
      "Epoch: 99, Training Loss: 0.82, Validation Loss: 0.88, accuracy = 0.70\n",
      "Epoch: 100, Training Loss: 0.81, Validation Loss: 0.86, accuracy = 0.70\n",
      "Epoch: 101, Training Loss: 0.81, Validation Loss: 0.86, accuracy = 0.70\n",
      "Epoch: 102, Training Loss: 0.80, Validation Loss: 0.84, accuracy = 0.71\n",
      "Epoch: 103, Training Loss: 0.80, Validation Loss: 0.86, accuracy = 0.71\n",
      "Epoch: 104, Training Loss: 0.81, Validation Loss: 0.83, accuracy = 0.72\n",
      "Epoch: 105, Training Loss: 0.80, Validation Loss: 0.85, accuracy = 0.71\n",
      "Epoch: 106, Training Loss: 0.80, Validation Loss: 0.83, accuracy = 0.72\n",
      "Epoch: 107, Training Loss: 0.80, Validation Loss: 0.84, accuracy = 0.71\n",
      "Epoch: 108, Training Loss: 0.80, Validation Loss: 0.85, accuracy = 0.71\n",
      "Epoch: 109, Training Loss: 0.79, Validation Loss: 0.85, accuracy = 0.71\n",
      "Epoch: 110, Training Loss: 0.79, Validation Loss: 0.83, accuracy = 0.71\n",
      "Epoch: 111, Training Loss: 0.78, Validation Loss: 0.83, accuracy = 0.71\n",
      "Epoch: 112, Training Loss: 0.78, Validation Loss: 0.82, accuracy = 0.72\n",
      "Epoch: 113, Training Loss: 0.79, Validation Loss: 0.86, accuracy = 0.71\n",
      "Epoch: 114, Training Loss: 0.78, Validation Loss: 0.82, accuracy = 0.72\n",
      "Epoch: 115, Training Loss: 0.78, Validation Loss: 0.84, accuracy = 0.71\n",
      "Epoch: 116, Training Loss: 0.77, Validation Loss: 0.82, accuracy = 0.72\n",
      "Epoch: 117, Training Loss: 0.77, Validation Loss: 0.83, accuracy = 0.72\n",
      "Epoch: 118, Training Loss: 0.76, Validation Loss: 0.83, accuracy = 0.72\n",
      "Epoch: 119, Training Loss: 0.76, Validation Loss: 0.82, accuracy = 0.72\n",
      "Epoch: 120, Training Loss: 0.77, Validation Loss: 0.82, accuracy = 0.72\n",
      "Epoch: 121, Training Loss: 0.77, Validation Loss: 0.82, accuracy = 0.72\n",
      "Epoch: 122, Training Loss: 0.76, Validation Loss: 0.83, accuracy = 0.72\n",
      "Epoch: 123, Training Loss: 0.76, Validation Loss: 0.81, accuracy = 0.72\n",
      "Epoch: 124, Training Loss: 0.76, Validation Loss: 0.82, accuracy = 0.72\n",
      "Epoch: 125, Training Loss: 0.75, Validation Loss: 0.81, accuracy = 0.73\n",
      "Epoch: 126, Training Loss: 0.75, Validation Loss: 0.82, accuracy = 0.72\n",
      "Epoch: 127, Training Loss: 0.75, Validation Loss: 0.82, accuracy = 0.72\n",
      "Epoch: 128, Training Loss: 0.75, Validation Loss: 0.81, accuracy = 0.72\n",
      "Epoch: 129, Training Loss: 0.74, Validation Loss: 0.82, accuracy = 0.72\n",
      "Epoch: 130, Training Loss: 0.75, Validation Loss: 0.82, accuracy = 0.72\n",
      "Epoch: 131, Training Loss: 0.74, Validation Loss: 0.81, accuracy = 0.72\n",
      "Epoch: 132, Training Loss: 0.74, Validation Loss: 0.81, accuracy = 0.72\n",
      "Epoch: 133, Training Loss: 0.74, Validation Loss: 0.81, accuracy = 0.73\n",
      "Epoch: 134, Training Loss: 0.75, Validation Loss: 0.80, accuracy = 0.73\n",
      "Epoch: 135, Training Loss: 0.73, Validation Loss: 0.81, accuracy = 0.72\n",
      "Epoch: 136, Training Loss: 0.73, Validation Loss: 0.81, accuracy = 0.73\n",
      "Epoch: 137, Training Loss: 0.73, Validation Loss: 0.81, accuracy = 0.72\n",
      "Epoch: 138, Training Loss: 0.74, Validation Loss: 0.81, accuracy = 0.72\n",
      "Epoch: 139, Training Loss: 0.74, Validation Loss: 0.80, accuracy = 0.73\n",
      "Epoch: 140, Training Loss: 0.74, Validation Loss: 0.80, accuracy = 0.73\n",
      "Epoch: 141, Training Loss: 0.73, Validation Loss: 0.82, accuracy = 0.72\n",
      "Epoch: 142, Training Loss: 0.73, Validation Loss: 0.82, accuracy = 0.72\n",
      "Epoch: 143, Training Loss: 0.73, Validation Loss: 0.81, accuracy = 0.72\n",
      "Epoch: 144, Training Loss: 0.72, Validation Loss: 0.81, accuracy = 0.73\n",
      "Epoch: 145, Training Loss: 0.72, Validation Loss: 0.81, accuracy = 0.72\n",
      "Epoch: 146, Training Loss: 0.72, Validation Loss: 0.81, accuracy = 0.73\n",
      "Epoch: 147, Training Loss: 0.71, Validation Loss: 0.81, accuracy = 0.73\n",
      "Epoch: 148, Training Loss: 0.72, Validation Loss: 0.80, accuracy = 0.72\n",
      "Epoch: 149, Training Loss: 0.72, Validation Loss: 0.81, accuracy = 0.72\n",
      "Epoch: 150, Training Loss: 0.71, Validation Loss: 0.81, accuracy = 0.72\n",
      "Epoch: 151, Training Loss: 0.72, Validation Loss: 0.81, accuracy = 0.73\n",
      "Epoch: 152, Training Loss: 0.71, Validation Loss: 0.81, accuracy = 0.72\n",
      "Epoch: 153, Training Loss: 0.71, Validation Loss: 0.80, accuracy = 0.73\n",
      "Epoch: 154, Training Loss: 0.70, Validation Loss: 0.80, accuracy = 0.73\n",
      "Epoch: 155, Training Loss: 0.71, Validation Loss: 0.80, accuracy = 0.73\n",
      "Epoch: 156, Training Loss: 0.71, Validation Loss: 0.80, accuracy = 0.73\n",
      "Epoch: 157, Training Loss: 0.70, Validation Loss: 0.80, accuracy = 0.73\n",
      "Epoch: 158, Training Loss: 0.70, Validation Loss: 0.80, accuracy = 0.73\n",
      "Epoch: 159, Training Loss: 0.70, Validation Loss: 0.81, accuracy = 0.73\n",
      "Epoch: 160, Training Loss: 0.70, Validation Loss: 0.80, accuracy = 0.73\n",
      "Epoch: 161, Training Loss: 0.70, Validation Loss: 0.81, accuracy = 0.73\n",
      "Epoch: 162, Training Loss: 0.70, Validation Loss: 0.80, accuracy = 0.73\n",
      "Epoch: 163, Training Loss: 0.69, Validation Loss: 0.80, accuracy = 0.73\n",
      "Epoch: 164, Training Loss: 0.70, Validation Loss: 0.80, accuracy = 0.73\n",
      "Epoch: 165, Training Loss: 0.70, Validation Loss: 0.80, accuracy = 0.73\n",
      "Epoch: 166, Training Loss: 0.70, Validation Loss: 0.80, accuracy = 0.73\n",
      "Epoch: 167, Training Loss: 0.69, Validation Loss: 0.80, accuracy = 0.73\n",
      "Epoch: 168, Training Loss: 0.68, Validation Loss: 0.80, accuracy = 0.73\n",
      "Epoch: 169, Training Loss: 0.69, Validation Loss: 0.80, accuracy = 0.73\n",
      "Epoch: 170, Training Loss: 0.69, Validation Loss: 0.80, accuracy = 0.73\n",
      "Epoch: 171, Training Loss: 0.69, Validation Loss: 0.81, accuracy = 0.73\n",
      "Epoch: 172, Training Loss: 0.69, Validation Loss: 0.80, accuracy = 0.73\n",
      "Epoch: 173, Training Loss: 0.68, Validation Loss: 0.80, accuracy = 0.73\n",
      "Epoch: 174, Training Loss: 0.68, Validation Loss: 0.80, accuracy = 0.73\n",
      "Epoch: 175, Training Loss: 0.68, Validation Loss: 0.80, accuracy = 0.73\n",
      "Epoch: 176, Training Loss: 0.68, Validation Loss: 0.80, accuracy = 0.73\n",
      "Epoch: 177, Training Loss: 0.68, Validation Loss: 0.81, accuracy = 0.73\n",
      "Epoch: 178, Training Loss: 0.68, Validation Loss: 0.80, accuracy = 0.73\n",
      "Epoch: 179, Training Loss: 0.68, Validation Loss: 0.81, accuracy = 0.73\n",
      "Epoch: 180, Training Loss: 0.67, Validation Loss: 0.80, accuracy = 0.73\n",
      "Epoch: 181, Training Loss: 0.68, Validation Loss: 0.80, accuracy = 0.73\n",
      "Epoch: 182, Training Loss: 0.67, Validation Loss: 0.81, accuracy = 0.73\n",
      "Epoch: 183, Training Loss: 0.68, Validation Loss: 0.80, accuracy = 0.73\n",
      "Epoch: 184, Training Loss: 0.67, Validation Loss: 0.80, accuracy = 0.73\n",
      "Epoch: 185, Training Loss: 0.67, Validation Loss: 0.80, accuracy = 0.73\n",
      "Epoch: 186, Training Loss: 0.67, Validation Loss: 0.80, accuracy = 0.73\n",
      "Epoch: 187, Training Loss: 0.67, Validation Loss: 0.79, accuracy = 0.73\n",
      "Epoch: 188, Training Loss: 0.67, Validation Loss: 0.79, accuracy = 0.73\n",
      "Epoch: 189, Training Loss: 0.67, Validation Loss: 0.80, accuracy = 0.73\n",
      "Epoch: 190, Training Loss: 0.66, Validation Loss: 0.80, accuracy = 0.73\n",
      "Epoch: 191, Training Loss: 0.66, Validation Loss: 0.80, accuracy = 0.73\n",
      "Epoch: 192, Training Loss: 0.66, Validation Loss: 0.80, accuracy = 0.73\n",
      "Epoch: 193, Training Loss: 0.66, Validation Loss: 0.79, accuracy = 0.73\n",
      "Epoch: 194, Training Loss: 0.66, Validation Loss: 0.81, accuracy = 0.73\n",
      "Epoch: 195, Training Loss: 0.65, Validation Loss: 0.80, accuracy = 0.74\n",
      "Epoch: 196, Training Loss: 0.65, Validation Loss: 0.80, accuracy = 0.73\n",
      "Epoch: 197, Training Loss: 0.65, Validation Loss: 0.79, accuracy = 0.73\n",
      "Epoch: 198, Training Loss: 0.65, Validation Loss: 0.79, accuracy = 0.74\n",
      "Epoch: 199, Training Loss: 0.65, Validation Loss: 0.80, accuracy = 0.73\n",
      "Epoch: 200, Training Loss: 0.66, Validation Loss: 0.80, accuracy = 0.73\n",
      "\n"
     ]
    }
   ],
   "source": [
    "train(net, optimizer, torch.nn.CrossEntropyLoss(), train_data_loader, test_data_loader, epochs=EPOCHS, device=device)"
   ]
  },
  {
   "cell_type": "code",
   "execution_count": null,
   "metadata": {},
   "outputs": [],
   "source": []
  }
 ],
 "metadata": {
  "kernelspec": {
   "display_name": "Python 3",
   "language": "python",
   "name": "python3"
  },
  "language_info": {
   "codemirror_mode": {
    "name": "ipython",
    "version": 3
   },
   "file_extension": ".py",
   "mimetype": "text/x-python",
   "name": "python",
   "nbconvert_exporter": "python",
   "pygments_lexer": "ipython3",
   "version": "3.8.5"
  }
 },
 "nbformat": 4,
 "nbformat_minor": 4
}
