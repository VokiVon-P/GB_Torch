{
 "cells": [
  {
   "cell_type": "markdown",
   "metadata": {},
   "source": [
    "## CNN & LSTM\n",
    "for human action recognition"
   ]
  },
  {
   "cell_type": "markdown",
   "metadata": {},
   "source": [
    "### HW_02\n",
    "1. Приложен ноутбук, в котором реализованы функции для генирации из большого\n",
    "датасета меньшая его копия. Вам нужно перенести функции из этого ноутбука в\n",
    "класс датасет и сделать следующее:\n",
    "a. Сгенерировать меньший датасет из 8-10 классов движения\n",
    "b. Обучить уже существующую модель (предварительно проанализировав\n",
    "какие параметры модели нужно изменить)\n",
    "c. Изменить модель: посмотреть зависимость от количества LSTM модулей\n",
    "в нашей модели\n",
    "d. Сгенерировать другой датасет с меньшим количеством “кадров” в серии\n",
    "и сравнить улучшилось или ухудшилось качество предсказания.\n",
    "Провести несколько таких итераций, дать свою оценку уменьшению и\n",
    "увеличению кадров, назвать оптимальное, на ваш взгляд, их количество.\n",
    "Желательно сделать так, чтобы длина последовательности\n",
    "передавалась как атрибут класса.\n",
    "2. Дополнительное задание:\n",
    "a. http://archive.ics.uci.edu/ml/datasets/Individual+household+electric+power+c\n",
    "onsumption - 2075259 measurements gathered in a house located in Sceaux\n",
    "(7km of Paris, France) between December 2006 and November 2010 (47\n",
    "months). Проделайте весь путь подготовки данных, создания датасета,\n",
    "разделения и обучения модели самостоятельно. Предсказывать нужно\n",
    "Global_active_power. Обратите внимание, что здесь задача регрессии, а\n",
    "не классификации, т.е. модель нужно изменить."
   ]
  },
  {
   "cell_type": "code",
   "execution_count": 1,
   "metadata": {},
   "outputs": [],
   "source": [
    "# initial commit hw_02"
   ]
  },
  {
   "cell_type": "code",
   "execution_count": null,
   "metadata": {},
   "outputs": [],
   "source": []
  }
 ],
 "metadata": {
  "kernelspec": {
   "display_name": "Python 3",
   "language": "python",
   "name": "python3"
  },
  "language_info": {
   "codemirror_mode": {
    "name": "ipython",
    "version": 3
   },
   "file_extension": ".py",
   "mimetype": "text/x-python",
   "name": "python",
   "nbconvert_exporter": "python",
   "pygments_lexer": "ipython3",
   "version": "3.8.4"
  }
 },
 "nbformat": 4,
 "nbformat_minor": 4
}
